{
 "cells": [
  {
   "cell_type": "code",
   "execution_count": 1,
   "metadata": {},
   "outputs": [],
   "source": [
    "import os\n",
    "import ffmpeg\n",
    "import yt_dlp\n",
    "import subprocess\n",
    "from ibm_watson import SpeechToTextV1\n",
    "#from ibm_watson.websocket import RecognizeCallback, AudioSource\n",
    "from ibm_cloud_sdk_core.authenticators import IAMAuthenticator\n",
    "import time\n",
    "\n",
    "from selenium import webdriver\n",
    "from selenium.webdriver.chrome.options import Options\n",
    "from selenium.webdriver.chrome.service import Service\n",
    "from webdriver_manager.chrome import ChromeDriverManager"
   ]
  },
  {
   "cell_type": "markdown",
   "metadata": {},
   "source": [
    "# Transcriber"
   ]
  },
  {
   "cell_type": "code",
   "execution_count": 3,
   "metadata": {},
   "outputs": [
    {
     "name": "stdout",
     "output_type": "stream",
     "text": [
      "[youtube] Extracting URL: https://www.youtube.com/watch?v=ZU0f8_C5Pm0\n",
      "[youtube] ZU0f8_C5Pm0: Downloading webpage\n",
      "[youtube] ZU0f8_C5Pm0: Downloading ios player API JSON\n",
      "[youtube] ZU0f8_C5Pm0: Downloading android player API JSON\n",
      "[youtube] ZU0f8_C5Pm0: Downloading m3u8 information\n",
      "[info] ZU0f8_C5Pm0: Downloading 1 format(s): 609+140\n",
      "[hlsnative] Downloading m3u8 manifest\n",
      "[hlsnative] Total fragments: 12\n",
      "[download] Destination: downloads\\my_video.f609.mp4\n",
      "[download] 100% of    1.26MiB in 00:00:00 at 2.56MiB/s                   \n",
      "[download] Destination: downloads\\my_video.f140.m4a\n",
      "[download] 100% of  939.76KiB in 00:00:00 at 6.30MiB/s     \n",
      "[Merger] Merging formats into \"downloads\\my_video.mp4\"\n",
      "Deleting original file downloads\\my_video.f140.m4a (pass -k to keep)\n",
      "Deleting original file downloads\\my_video.f609.mp4 (pass -k to keep)\n"
     ]
    }
   ],
   "source": [
    "\n",
    "def download_video(url, filename=\"video\", output_dir=\"downloads\"):\n",
    "    os.makedirs('D:\\\\Nikhil\\\\VScode\\\\LTI\\Model\\\\downloads', exist_ok=True)  # Create the output directory if it doesn't exist\n",
    "    output_path = os.path.join(output_dir, f\"{filename}.%(ext)s\")  # Specify the output path\n",
    "    \n",
    "    ydl_opts = {\n",
    "        'format': 'bestvideo[ext=mp4]+bestaudio[ext=m4a]/best[ext=mp4]/best',\n",
    "        'outtmpl': output_path, \n",
    "    }\n",
    "    \n",
    "    with yt_dlp.YoutubeDL(ydl_opts) as ydl:\n",
    "        ydl.download([url])\n",
    "\n",
    "video_url = 'https://www.youtube.com/watch?v=ZU0f8_C5Pm0'\n",
    "download_video(video_url, filename=\"my_video\", output_dir=\"downloads\")\n"
   ]
  },
  {
   "cell_type": "code",
   "execution_count": 4,
   "metadata": {},
   "outputs": [
    {
     "name": "stdout",
     "output_type": "stream",
     "text": [
      "[youtube] Extracting URL: https://www.youtube.com/watch?v=ZU0f8_C5Pm0\n",
      "[youtube] ZU0f8_C5Pm0: Downloading webpage\n",
      "[youtube] ZU0f8_C5Pm0: Downloading ios player API JSON\n",
      "[youtube] ZU0f8_C5Pm0: Downloading android player API JSON\n",
      "[youtube] ZU0f8_C5Pm0: Downloading m3u8 information\n",
      "[info] ZU0f8_C5Pm0: Downloading 1 format(s): 609+140\n",
      "[hlsnative] Downloading m3u8 manifest\n",
      "[hlsnative] Total fragments: 12\n",
      "[download] Destination: video.f609.mp4\n",
      "[download] 100% of    1.26MiB in 00:00:00 at 2.06MiB/s                   \n",
      "[download] Destination: video.f140.m4a\n",
      "[download] 100% of  939.76KiB in 00:00:00 at 7.31MiB/s   \n",
      "[Merger] Merging formats into \"video.mp4\"\n",
      "Deleting original file video.f140.m4a (pass -k to keep)\n",
      "Deleting original file video.f609.mp4 (pass -k to keep)\n"
     ]
    }
   ],
   "source": [
    "\"\"\"def download_video(url, filename=\"video\"):\n",
    "    ydl_opts = {\n",
    "        'format': 'bestvideo[ext=mp4]+bestaudio[ext=m4a]/best[ext=mp4]/best',\n",
    "        'outtmpl': f'{filename}.%(ext)s', \n",
    "    }\n",
    "    with yt_dlp.YoutubeDL(ydl_opts) as ydl:\n",
    "        ydl.download([url])\n",
    "\n",
    "video_url = 'https://www.youtube.com/watch?v=ZU0f8_C5Pm0'\n",
    "\n",
    "download_video(video_url)\"\"\"\n"
   ]
  },
  {
   "cell_type": "code",
   "execution_count": 2,
   "metadata": {},
   "outputs": [],
   "source": [
    "def convert_video_to_audio(input_video):\n",
    "\n",
    "    \"\"\"(\n",
    "    ffmpeg.input(input_video)\n",
    "    .output(\"D:\\\\Nikhil\\\\VScode\\\\LTI\\Model\\\\downloads\\\\audio.mp3\")\n",
    "    .run()\n",
    "    )\"\"\"\n",
    "    output_audio = \"D:\\\\Nikhil\\\\VScode\\\\LTI\\Model\\\\downloads\\\\audio.mp3\"\n",
    "    subprocess.run([\"ffmpeg\", \"-i\", input_video, output_audio])\n",
    "\n",
    "if __name__ == \"__main__\":\n",
    "  input_video_path = \"D:\\\\Nikhil\\\\VScode\\\\LTI\\Model\\\\downloads\\\\video.mp4\"  \n",
    "\n",
    "  convert_video_to_audio(input_video_path)\n"
   ]
  },
  {
   "cell_type": "code",
   "execution_count": 7,
   "metadata": {},
   "outputs": [],
   "source": [
    "apikey = 'LFkzx_UQCpr2QvgszR-0oz9L3ToszpMke0R7D7PDcWs4'\n",
    "url = 'https://api.au-syd.speech-to-text.watson.cloud.ibm.com/instances/31b9f2a5-d2fe-4254-a051-accc44f5b454'"
   ]
  },
  {
   "cell_type": "code",
   "execution_count": 8,
   "metadata": {},
   "outputs": [],
   "source": [
    "# setup service\n",
    "authenticator = IAMAuthenticator(apikey)\n",
    "stt = SpeechToTextV1(authenticator=authenticator)\n",
    "stt.set_service_url(url)"
   ]
  },
  {
   "cell_type": "code",
   "execution_count": 9,
   "metadata": {},
   "outputs": [],
   "source": [
    "with open(\"audio.mp3\",\"rb\") as f:\n",
    "    res = stt.recognize(audio=f, content_type=\"audio/mp3\", model=\"en-AU_NarrowbandModel\").get_result()"
   ]
  },
  {
   "cell_type": "code",
   "execution_count": 11,
   "metadata": {},
   "outputs": [
    {
     "data": {
      "text/plain": [
       "{'result_index': 0,\n",
       " 'results': [{'final': True,\n",
       "   'alternatives': [{'transcript': 'the biggest reason in his request ',\n",
       "     'confidence': 0.58}]},\n",
       "  {'final': True,\n",
       "   'alternatives': [{'transcript': 'I think there are a lot of people ',\n",
       "     'confidence': 0.93}]},\n",
       "  {'final': True,\n",
       "   'alternatives': [{'transcript': 'that has dreams ', 'confidence': 0.81}]},\n",
       "  {'final': True,\n",
       "   'alternatives': [{'transcript': \"aspirations of things that they always wanted to do but it wasn't the right time when they didn't have enough money or didn't have enough experiences it's never the right time you never going to have the right experience \",\n",
       "     'confidence': 0.8}]},\n",
       "  {'final': True,\n",
       "   'alternatives': [{'transcript': \"all of a sudden you wake up and you're seventy \",\n",
       "     'confidence': 0.76}]},\n",
       "  {'final': True,\n",
       "   'alternatives': [{'transcript': 'anyway I wish I could have done it ',\n",
       "     'confidence': 0.81}]},\n",
       "  {'final': True,\n",
       "   'alternatives': [{'transcript': \"it's what you don't do that screws with you later on \",\n",
       "     'confidence': 0.87}]},\n",
       "  {'final': True,\n",
       "   'alternatives': [{'transcript': 'I get one shot at this Lacy ',\n",
       "     'confidence': 0.67}]},\n",
       "  {'final': True,\n",
       "   'alternatives': [{'transcript': 'this is a ', 'confidence': 0.65}]},\n",
       "  {'final': True,\n",
       "   'alternatives': [{'transcript': \"and I don't want to go to the lake in the eastern version of the \",\n",
       "     'confidence': 0.71}]},\n",
       "  {'final': True,\n",
       "   'alternatives': [{'transcript': \"I don't look back and be like seventy seven dollars I didn't do that \",\n",
       "     'confidence': 0.72}]},\n",
       "  {'final': True,\n",
       "   'alternatives': [{'transcript': \"there's so much I want to do and I will love life so much I don't want to message \",\n",
       "     'confidence': 0.69}]}]}"
      ]
     },
     "execution_count": 11,
     "metadata": {},
     "output_type": "execute_result"
    }
   ],
   "source": [
    "res"
   ]
  },
  {
   "cell_type": "code",
   "execution_count": 22,
   "metadata": {},
   "outputs": [],
   "source": [
    "text = [result['alternatives'][0]['transcript'] + '. ' for result in res['results']]"
   ]
  },
  {
   "cell_type": "code",
   "execution_count": 23,
   "metadata": {},
   "outputs": [
    {
     "data": {
      "text/plain": [
       "['the biggest reason in his request . ',\n",
       " 'I think there are a lot of people . ',\n",
       " 'that has dreams . ',\n",
       " \"aspirations of things that they always wanted to do but it wasn't the right time when they didn't have enough money or didn't have enough experiences it's never the right time you never going to have the right experience . \",\n",
       " \"all of a sudden you wake up and you're seventy . \",\n",
       " 'anyway I wish I could have done it . ',\n",
       " \"it's what you don't do that screws with you later on . \",\n",
       " 'I get one shot at this Lacy . ',\n",
       " 'this is a . ',\n",
       " \"and I don't want to go to the lake in the eastern version of the . \",\n",
       " \"I don't look back and be like seventy seven dollars I didn't do that . \",\n",
       " \"there's so much I want to do and I will love life so much I don't want to message . \"]"
      ]
     },
     "execution_count": 23,
     "metadata": {},
     "output_type": "execute_result"
    }
   ],
   "source": [
    "text"
   ]
  },
  {
   "cell_type": "code",
   "execution_count": 24,
   "metadata": {},
   "outputs": [
    {
     "data": {
      "text/plain": [
       "\"the biggest reason in his request . I think there are a lot of people . that has dreams . aspirations of things that they always wanted to do but it wasn't the right time when they didn't have enough money or didn't have enough experiences it's never the right time you never going to have the right experience . all of a sudden you wake up and you're seventy . anyway I wish I could have done it . it's what you don't do that screws with you later on . I get one shot at this Lacy . this is a . and I don't want to go to the lake in the eastern version of the . I don't look back and be like seventy seven dollars I didn't do that . there's so much I want to do and I will love life so much I don't want to message . \""
      ]
     },
     "execution_count": 24,
     "metadata": {},
     "output_type": "execute_result"
    }
   ],
   "source": [
    "transcript = ''.join(text)\n",
    "transcript"
   ]
  },
  {
   "cell_type": "code",
   "execution_count": 14,
   "metadata": {},
   "outputs": [
    {
     "data": {
      "text/plain": [
       "\"The biggest reason in his request. I think there are a lot of people. That has dreams. Aspirations of things that they always wanted to do but it wasn't the right time when they didn't have enough money or didn't have enough experiences it's never the right time you never going to have the right experience. All of a sudden you wake up and you're seventy. Anyway I wish I could have done it. It's what you don't do that screws with you later on. I get one shot at this Lacy. This is a. And I don't want to go to the lake in the eastern version of the. I don't look back and be like seventy seven dollars I didn't do that. There's so much I want to do and I will love life so much I don't want to message. \""
      ]
     },
     "execution_count": 14,
     "metadata": {},
     "output_type": "execute_result"
    }
   ],
   "source": [
    "\"\"\"text = [para[0].title() + para[1: ] for para in text]\n",
    "transcript = ''.join(text)\n",
    "transcript\"\"\""
   ]
  },
  {
   "cell_type": "code",
   "execution_count": 3,
   "metadata": {},
   "outputs": [
    {
     "name": "stdout",
     "output_type": "stream",
     "text": [
      "File deleted successfully!\n"
     ]
    }
   ],
   "source": [
    "audio_path = \"audio.mp3\"\n",
    "video_path = \"video.mp4\"\n",
    "\n",
    "def delete_audio_video(audio, video):\n",
    "  try:\n",
    "    os.remove(audio)\n",
    "    os.remove(video)\n",
    "    print(\"File deleted successfully!\")\n",
    "  except FileNotFoundError:\n",
    "    print(\"File not found!\")\n",
    "\n",
    "delete_audio_video(audio_path, video_path)\n"
   ]
  },
  {
   "cell_type": "code",
   "execution_count": 4,
   "metadata": {},
   "outputs": [
    {
     "name": "stdout",
     "output_type": "stream",
     "text": [
      "all files deleted\n"
     ]
    }
   ],
   "source": [
    "# Example usage:\n",
    "video_file_path = 'D:\\\\Nikhil\\\\VScode\\\\LTI\\\\Model\\\\downloads\\\\video.mp4'\n",
    "download_folder_path = 'D:\\\\Nikhil\\\\VScode\\\\LTI\\\\Model\\\\downloads'\n",
    "\n",
    "if os.path.exists(video_file_path):\n",
    "    for filename in os.listdir(download_folder_path):\n",
    "        file = os.path.join(download_folder_path, filename)\n",
    "        # Check if the path is a file (not a directory)\n",
    "        if os.path.isfile(file):\n",
    "            # Remove the file\n",
    "            os.remove(file)\n",
    "    print(\"all files deleted\")\n",
    "\n",
    "else:\n",
    "    print(f\"The file '{video_file_path}' does not exist.\")\n"
   ]
  },
  {
   "cell_type": "markdown",
   "metadata": {},
   "source": [
    "# Scrap Summerized Text"
   ]
  },
  {
   "cell_type": "code",
   "execution_count": 13,
   "metadata": {},
   "outputs": [],
   "source": [
    "options = Options()\n",
    "#options.add_experimental_option(\"detach\", True)\n",
    "options.add_argument('--headless') \n",
    "driver = webdriver.Chrome(options=options, service=Service(ChromeDriverManager().install()))"
   ]
  },
  {
   "cell_type": "code",
   "execution_count": 14,
   "metadata": {},
   "outputs": [],
   "source": [
    "driver.get(\"https://www.semrush.com/goodcontent/summary-generator/\")"
   ]
  },
  {
   "cell_type": "code",
   "execution_count": 5,
   "metadata": {},
   "outputs": [
    {
     "ename": "NameError",
     "evalue": "name 'driver' is not defined",
     "output_type": "error",
     "traceback": [
      "\u001b[1;31m---------------------------------------------------------------------------\u001b[0m",
      "\u001b[1;31mNameError\u001b[0m                                 Traceback (most recent call last)",
      "Cell \u001b[1;32mIn[5], line 6\u001b[0m\n\u001b[0;32m      4\u001b[0m \u001b[38;5;28;01mfrom\u001b[39;00m \u001b[38;5;21;01mselenium\u001b[39;00m\u001b[38;5;21;01m.\u001b[39;00m\u001b[38;5;21;01mwebdriver\u001b[39;00m\u001b[38;5;21;01m.\u001b[39;00m\u001b[38;5;21;01mcommon\u001b[39;00m\u001b[38;5;21;01m.\u001b[39;00m\u001b[38;5;21;01mby\u001b[39;00m \u001b[38;5;28;01mimport\u001b[39;00m By\n\u001b[0;32m      5\u001b[0m \u001b[38;5;28;01mfrom\u001b[39;00m \u001b[38;5;21;01mselenium\u001b[39;00m\u001b[38;5;21;01m.\u001b[39;00m\u001b[38;5;21;01mwebdriver\u001b[39;00m\u001b[38;5;21;01m.\u001b[39;00m\u001b[38;5;21;01mcommon\u001b[39;00m\u001b[38;5;21;01m.\u001b[39;00m\u001b[38;5;21;01maction_chains\u001b[39;00m \u001b[38;5;28;01mimport\u001b[39;00m ActionChains\n\u001b[1;32m----> 6\u001b[0m wait \u001b[38;5;241m=\u001b[39m WebDriverWait(\u001b[43mdriver\u001b[49m, \u001b[38;5;241m7\u001b[39m, \u001b[38;5;241m2\u001b[39m, ignored_exceptions\u001b[38;5;241m=\u001b[39m[ElementClickInterceptedException])\n",
      "\u001b[1;31mNameError\u001b[0m: name 'driver' is not defined"
     ]
    }
   ],
   "source": [
    "from selenium.webdriver.support.wait import WebDriverWait\n",
    "from selenium.webdriver.support import expected_conditions as EC\n",
    "from selenium.common.exceptions import ElementClickInterceptedException\n",
    "from selenium.webdriver.common.by import By\n",
    "from selenium.webdriver.common.action_chains import ActionChains\n"
   ]
  },
  {
   "cell_type": "code",
   "execution_count": null,
   "metadata": {},
   "outputs": [],
   "source": [
    "wait = WebDriverWait(driver, 7, 2, ignored_exceptions=[ElementClickInterceptedException])"
   ]
  },
  {
   "cell_type": "code",
   "execution_count": 16,
   "metadata": {},
   "outputs": [],
   "source": [
    "obj = ActionChains(driver)"
   ]
  },
  {
   "cell_type": "code",
   "execution_count": 17,
   "metadata": {},
   "outputs": [],
   "source": [
    "#driver.find_element(by=\"xpath\", value=\"/html/body/section/div/div[1]/div[2]/button[1]\").click()\n",
    "wait.until(EC.presence_of_element_located((By.XPATH, \"/html/body/section/div/div[1]/div[2]/button[1]\"))).click()"
   ]
  },
  {
   "cell_type": "code",
   "execution_count": 18,
   "metadata": {},
   "outputs": [],
   "source": [
    "#driver.find_element(by=\"xpath\", value=\"//span[normalize-space()='Bullet Points']\").click()\n",
    "bullet_pt = driver.find_element(by=\"xpath\", value=\"//span[normalize-space()='Bullet Points']\")\n",
    "obj.move_to_element(bullet_pt).click().perform()\n",
    "#wait.until(EC.element_to_be_clickable((By.XPATH, \"//span[normalize-space()='Bullet Points']\" ))).click()"
   ]
  },
  {
   "cell_type": "code",
   "execution_count": 19,
   "metadata": {},
   "outputs": [],
   "source": [
    "def send_text(text):\n",
    "    input_text_area = driver.find_element(by=\"xpath\", value=\"//textarea[@id='input']\")\n",
    "    input_text_area.send_keys(text)\n",
    "\n",
    "send_text(transcript)"
   ]
  },
  {
   "cell_type": "code",
   "execution_count": 20,
   "metadata": {},
   "outputs": [],
   "source": [
    "#driver.find_element(by=\"xpath\", value=\"/html/body/section/div/div[1]/div[2]/button[1]\").click()"
   ]
  },
  {
   "cell_type": "code",
   "execution_count": 21,
   "metadata": {},
   "outputs": [],
   "source": [
    "#driver.find_element(by=\"xpath\", value=\"//button[@aria-label='Summarize text']//span[@class='___SInner_1ab13_gg_']\").click()\n",
    "summerize_btn = driver.find_element(by=\"xpath\", value=\"//button[@aria-label='Summarize text']//span[@class='___SInner_1ab13_gg_']\")\n",
    "obj.move_to_element(summerize_btn).click().perform()\n",
    "#wait.until(EC.element_to_be_clickable((By.XPATH, \"//button[@aria-label='Summarize text']//span[@class='___SInner_1ab13_gg_']\" ))).click()"
   ]
  },
  {
   "cell_type": "code",
   "execution_count": 22,
   "metadata": {},
   "outputs": [
    {
     "data": {
      "text/plain": [
       "[\"Many people have dreams but don't have the time or money to pursue them.\",\n",
       " \"The person's request is to have one shot at their dreams and not regret it later.\"]"
      ]
     },
     "execution_count": 22,
     "metadata": {},
     "output_type": "execute_result"
    }
   ],
   "source": [
    "wait.until(EC.presence_of_element_located((By.CLASS_NAME, \"gch-1k34ke5\")))\n",
    "summ = wait.until(EC.visibility_of_element_located((By.XPATH, \"//div[@aria-label='Summary']\")))\n",
    "summerized_text = summ.text\n",
    "final_summer = summerized_text.split(\"\\n\")\n",
    "final_summer"
   ]
  },
  {
   "cell_type": "code",
   "execution_count": 23,
   "metadata": {},
   "outputs": [],
   "source": [
    "driver.quit()"
   ]
  }
 ],
 "metadata": {
  "kernelspec": {
   "display_name": "Python 3",
   "language": "python",
   "name": "python3"
  },
  "language_info": {
   "codemirror_mode": {
    "name": "ipython",
    "version": 3
   },
   "file_extension": ".py",
   "mimetype": "text/x-python",
   "name": "python",
   "nbconvert_exporter": "python",
   "pygments_lexer": "ipython3",
   "version": "3.10.11"
  }
 },
 "nbformat": 4,
 "nbformat_minor": 2
}
